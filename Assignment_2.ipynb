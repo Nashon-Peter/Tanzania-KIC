{
 "cells": [
  {
   "cell_type": "code",
   "execution_count": null,
   "metadata": {
    "id": "1_LpJtmhttZa"
   },
   "outputs": [],
   "source": [
    "# function definition/ like defining variable\n",
    "def name_of_function (arugments):\n",
    "    #code\n",
    "    return\n",
    "\n",
    "# function call\n",
    "name_of_function()"
   ]
  },
  {
   "cell_type": "code",
   "execution_count": null,
   "metadata": {
    "id": "jA_wruGRR6qk"
   },
   "outputs": [],
   "source": []
  },
  {
   "cell_type": "markdown",
   "metadata": {
    "id": "zNrp5DpH8Sbc"
   },
   "source": [
    "## task1\n",
    "* Create a function add_numbers that takes two arguments and returns their sum."
   ]
  },
  {
   "cell_type": "code",
   "execution_count": 12,
   "metadata": {
    "id": "OJGjVE--paQa"
   },
   "outputs": [
    {
     "name": "stdout",
     "output_type": "stream",
     "text": [
      "Sum: 15\n"
     ]
    }
   ],
   "source": [
    "#define function\n",
    "def add_numbers(a, b):\n",
    "    return a + b\n",
    "\n",
    "# Example usage\n",
    "print(\"Sum:\", add_numbers(10, 5))\n"
   ]
  },
  {
   "cell_type": "code",
   "execution_count": 10,
   "metadata": {
    "id": "nUZGZxB1voAm"
   },
   "outputs": [
    {
     "name": "stdout",
     "output_type": "stream",
     "text": [
      "Sum: 11\n"
     ]
    }
   ],
   "source": [
    "#define function\n",
    "def add_numbers(a= 5, b= 6):\n",
    "    return a + b\n",
    "\n",
    "# Example usage\n",
    "print(\"Sum:\", add_numbers())"
   ]
  },
  {
   "cell_type": "code",
   "execution_count": 8,
   "metadata": {
    "id": "1nRpKxvAvwB1"
   },
   "outputs": [
    {
     "name": "stdout",
     "output_type": "stream",
     "text": [
      "Sum: 14\n"
     ]
    }
   ],
   "source": [
    "#define function\n",
    "def add_numbers(a, b):\n",
    "    return a + b\n",
    "\n",
    "# Example usage\n",
    "print(\"Sum:\", add_numbers(8, 6))"
   ]
  },
  {
   "cell_type": "code",
   "execution_count": null,
   "metadata": {
    "id": "N6WHn8og8lST"
   },
   "outputs": [],
   "source": []
  },
  {
   "cell_type": "markdown",
   "metadata": {
    "id": "A69VN-wr8l9G"
   },
   "source": [
    "* Write a function calculate_area that calculates the area of a rectangle.\n",
    "* Use default arguments for width and height (e.g., width=10, height=5).\n",
    "* Call the function using positional arguments, keyword arguments, and a mix of both."
   ]
  },
  {
   "cell_type": "code",
   "execution_count": 14,
   "metadata": {
    "id": "XCSUKVzFpkvy"
   },
   "outputs": [
    {
     "name": "stdout",
     "output_type": "stream",
     "text": [
      "Area (positional): 21\n",
      "Area (keyword): 24\n",
      "Area (mixed): 16\n"
     ]
    }
   ],
   "source": [
    "\n",
    "def calculate_area(width=10, height=5):\n",
    "    return width * height\n",
    "\n",
    "# Positional arguments\n",
    "print(\"Area (positional):\", calculate_area(7, 3))\n",
    "\n",
    "# Keyword arguments\n",
    "print(\"Area (keyword):\", calculate_area(height=6, width=4))\n",
    "\n",
    "# Mix of both\n",
    "print(\"Area (mixed):\", calculate_area(8, height=2))"
   ]
  },
  {
   "cell_type": "markdown",
   "metadata": {
    "id": "GzTRVQhL8-9D"
   },
   "source": [
    "# Lambda Functions (5 points)\n",
    "\n",
    "* Create a lambda function to compute the square of a number.\n",
    "* Demonstrate its usage with the map() function over a list of integers."
   ]
  },
  {
   "cell_type": "code",
   "execution_count": 16,
   "metadata": {
    "id": "47fWPeW5xgwz"
   },
   "outputs": [
    {
     "name": "stdout",
     "output_type": "stream",
     "text": [
      "Squares: [1, 4, 9, 16, 25]\n"
     ]
    }
   ],
   "source": [
    "# Adding squaring with function\n",
    "def saquares(numbers):\n",
    "    squares = []\n",
    "    for number in numbers:\n",
    "        squares.append(number ** 2)\n",
    "    return squares\n",
    "\n",
    "numbers = [1, 2, 3, 4, 5]\n",
    "squares = saquares(numbers)\n",
    "print(\"Squares:\", squares)"
   ]
  },
  {
   "cell_type": "code",
   "execution_count": 20,
   "metadata": {
    "id": "Zn7h_V2Spod2"
   },
   "outputs": [
    {
     "name": "stdout",
     "output_type": "stream",
     "text": [
      "Squares: [1, 4, 9, 16, 25]\n"
     ]
    }
   ],
   "source": [
    "\n",
    "\n",
    "# Lambda for squaring\n",
    "square = lambda x: x ** 2\n",
    "\n",
    "# Using map with lambda\n",
    "numbers = [1, 2, 3, 4, 5]\n",
    "squares = list(map(square, numbers)) # list(map (to map lambda function on values ))\n",
    "print(\"Squares:\", squares)"
   ]
  },
  {
   "cell_type": "code",
   "execution_count": 22,
   "metadata": {
    "id": "NJFNpT2qzIzi"
   },
   "outputs": [
    {
     "name": "stdout",
     "output_type": "stream",
     "text": [
      "A\n",
      "B\n",
      "C\n"
     ]
    }
   ],
   "source": [
    "grades= [\"A\", \"B\", \"C\"]\n",
    "for grade in grades:\n",
    "    print(grade)"
   ]
  },
  {
   "cell_type": "code",
   "execution_count": 24,
   "metadata": {
    "id": "XGeF3d8tp0qC"
   },
   "outputs": [
    {
     "name": "stdout",
     "output_type": "stream",
     "text": [
      "Doubled: [4, 8, 12]\n"
     ]
    }
   ],
   "source": [
    "\n",
    "def apply_function(func, numbers):\n",
    "    return [func(number) for number in numbers]\n",
    "\n",
    "def double(x):\n",
    "    return x * 2\n",
    "\n",
    "nums = [2, 4, 6]\n",
    "print(\"Doubled:\", apply_function(double, nums))"
   ]
  },
  {
   "cell_type": "code",
   "execution_count": 26,
   "metadata": {
    "id": "JpjtNALj0Cb-"
   },
   "outputs": [
    {
     "name": "stdout",
     "output_type": "stream",
     "text": [
      "Random numbers: [54, 28, 12, 83, 64]\n"
     ]
    }
   ],
   "source": [
    "import random\n",
    "random_nums = [random.randint(1, 100) for _ in range(5)]\n",
    "print(\"Random numbers:\", random_nums)"
   ]
  },
  {
   "cell_type": "code",
   "execution_count": 28,
   "metadata": {
    "id": "yflP6jDGp70C"
   },
   "outputs": [
    {
     "name": "stdout",
     "output_type": "stream",
     "text": [
      "Random numbers: [84, 97, 84, 54, 62]\n",
      "Square roots: [9.16515138991168, 9.848857801796104, 9.16515138991168, 7.3484692283495345, 7.874007874011811]\n"
     ]
    }
   ],
   "source": [
    "import random\n",
    "import math\n",
    "\n",
    "random_nums = [random.randint(1, 100) for _ in range(5)]\n",
    "print(\"Random numbers:\", random_nums)\n",
    "\n",
    "sqrt_vals = [math.sqrt(num) for num in random_nums]\n",
    "print(\"Square roots:\", sqrt_vals)"
   ]
  },
  {
   "cell_type": "code",
   "execution_count": 30,
   "metadata": {
    "id": "QtJv7k9FqBTR"
   },
   "outputs": [],
   "source": [
    "def add(a, b):\n",
    "    return a + b\n",
    "\n",
    "def subtract(a, b):\n",
    "    return a - b\n",
    "\n",
    "def multiply(a, b):\n",
    "    return a * b\n",
    "\n",
    "def divide(a, b):\n",
    "    if b == 0:\n",
    "        return \"Cannot divide by zero\"\n",
    "    return a / b"
   ]
  },
  {
   "cell_type": "code",
   "execution_count": 40,
   "metadata": {
    "id": "v2V3effKpfc5"
   },
   "outputs": [
    {
     "name": "stdout",
     "output_type": "stream",
     "text": [
      "17 11 49 5.0\n"
     ]
    }
   ],
   "source": [
    "print(add(9, 8), subtract(20, 9), multiply(7,7), divide(40, 8))\n"
   ]
  },
  {
   "cell_type": "code",
   "execution_count": null,
   "metadata": {
    "id": "up1671yktsDK"
   },
   "outputs": [],
   "source": []
  },
  {
   "cell_type": "code",
   "execution_count": 42,
   "metadata": {
    "id": "eRwZ3KCus_8Y"
   },
   "outputs": [
    {
     "name": "stdout",
     "output_type": "stream",
     "text": [
      "File contents:\n",
      "Hello from Python! This is a test file.\n"
     ]
    }
   ],
   "source": [
    "import os\n",
    "\n",
    "# Create directory\n",
    "dir_name = \"assignment_files\"\n",
    "if not os.path.exists(dir_name):\n",
    "    os.mkdir(dir_name)\n",
    "\n",
    "# File path\n",
    "file_path = os.path.join(dir_name, \"sample.txt\")\n",
    "\n",
    "# Write to file\n",
    "with open(file_path, \"w\") as f:\n",
    "    f.write(\"Hello from Python! This is a test file.\")\n",
    "\n",
    "# Read from file\n",
    "with open(file_path, \"r\") as f:\n",
    "    content = f.read()\n",
    "\n",
    "print(\"File contents:\")\n",
    "print(content)"
   ]
  },
  {
   "cell_type": "code",
   "execution_count": null,
   "metadata": {},
   "outputs": [],
   "source": []
  }
 ],
 "metadata": {
  "colab": {
   "private_outputs": true,
   "provenance": []
  },
  "kernelspec": {
   "display_name": "Python [conda env:base] *",
   "language": "python",
   "name": "conda-base-py"
  },
  "language_info": {
   "codemirror_mode": {
    "name": "ipython",
    "version": 3
   },
   "file_extension": ".py",
   "mimetype": "text/x-python",
   "name": "python",
   "nbconvert_exporter": "python",
   "pygments_lexer": "ipython3",
   "version": "3.12.7"
  }
 },
 "nbformat": 4,
 "nbformat_minor": 4
}
