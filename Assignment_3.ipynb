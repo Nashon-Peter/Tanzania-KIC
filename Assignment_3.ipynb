{
 "cells": [
  {
   "cell_type": "markdown",
   "metadata": {
    "id": "wkz3mAI3w5uW"
   },
   "source": [
    "## Part 1: Looping Constructs\n",
    "## Task 1: while loop\n",
    "* Write a while loop that prints all the even numbers from 0 to 20.\n",
    "* If the number reaches 16, break out of the loop.\n"
   ]
  },
  {
   "cell_type": "code",
   "execution_count": null,
   "metadata": {
    "id": "dCaIFiHTx4RP"
   },
   "outputs": [],
   "source": [
    "# sytex of while\n",
    "# 1. counter any number with satrt and end limit\n",
    "# 2. increament in counter\n",
    "#  task or operations by loop are defined inside the loop body\n",
    "\n",
    "counter = 0\n",
    "while counter <= 5:\n",
    "   print(counter) # task or operations by loop\n",
    "   counter += 1"
   ]
  },
  {
   "cell_type": "code",
   "execution_count": null,
   "metadata": {
    "id": "HtM8CY5ewEVk"
   },
   "outputs": [],
   "source": [
    "\n",
    "# Task 1: while loop\n",
    "number = 0\n",
    "while number <= 20:\n",
    "    if number % 2 == 0:\n",
    "        print(number)\n",
    "    if number == 16:\n",
    "        break # earlier exit of the loop continue keep executing the loop\n",
    "    number += 1\n"
   ]
  },
  {
   "cell_type": "markdown",
   "metadata": {
    "id": "Yh-loQRAw_rH"
   },
   "source": [
    "# #Task 2: for loop with continue\n",
    "* Iterate through numbers 1 to 15, skip numbers divisible by 3."
   ]
  },
  {
   "cell_type": "code",
   "execution_count": null,
   "metadata": {
    "id": "GDtmkmgKzPRv"
   },
   "outputs": [],
   "source": [
    "# Syntex of for loop\n",
    "#for (range start to end -1 )\n",
    "for counter in range( 1, 11):\n",
    "  print(counter)"
   ]
  },
  {
   "cell_type": "markdown",
   "metadata": {
    "id": "VqjE1Nmj0dv5"
   },
   "source": [
    "Loop stopd when contdition does not match range(1,6) it will print 5 numbers  same with while counter < 6:\n",
    "\n",
    "* Break ( if condition matches) loop will stop working here that mean when we say user break when number is divisible by 3. evne counter ends at 16 loop will stop at 3\n",
    "* continue\n",
    "* with continue loop will skip that particular value as mentioned above 3 and continue with 4 and also keep skiping the particular condition (6, 9, 12 , 15) untill the last step of code"
   ]
  },
  {
   "cell_type": "code",
   "execution_count": null,
   "metadata": {
    "id": "HyFYPrDe0dDZ"
   },
   "outputs": [],
   "source": []
  },
  {
   "cell_type": "code",
   "execution_count": null,
   "metadata": {
    "id": "yY9TXYEz0UBT"
   },
   "outputs": [],
   "source": [
    "for num in range(1, 16):\n",
    "    if num % 3 == 0:\n",
    "        break\n",
    "    print(num)"
   ]
  },
  {
   "cell_type": "code",
   "execution_count": null,
   "metadata": {
    "id": "2OInkLuiwR4n"
   },
   "outputs": [],
   "source": [
    "# Task 2: for loop with continue\n",
    "for num in range(1, 16):\n",
    "    if num % 3 == 0:\n",
    "        continue\n",
    "    print(num)\n"
   ]
  },
  {
   "cell_type": "markdown",
   "metadata": {
    "id": "Lr6-XIEHxEC6"
   },
   "source": [
    "## Task 3: if-else statement\n",
    "* Check if a number is positive, negative, or zero."
   ]
  },
  {
   "cell_type": "code",
   "execution_count": null,
   "metadata": {
    "id": "ubzh89A5wt9a"
   },
   "outputs": [],
   "source": [
    "\n",
    "# Task 3: if-else statement\n",
    "number = int(input(\"Enter a number: \"))\n",
    "\n",
    "if number > 0:\n",
    "    print(\"The number is positive.\")\n",
    "elif number < 0:\n",
    "    print(\"The number is negative.\")\n",
    "else:\n",
    "    print(\"The number is zero.\")\n"
   ]
  },
  {
   "cell_type": "markdown",
   "metadata": {
    "id": "FNo1QsudxH2d"
   },
   "source": [
    "## Task 4: Nested Loops\n",
    "* Print multiplication table from 1 through 5."
   ]
  },
  {
   "cell_type": "code",
   "execution_count": null,
   "metadata": {
    "id": "5km2TqEUwwnP"
   },
   "outputs": [],
   "source": [
    "# Task 4: Nested loops\n",
    "for i in range(1, 6):\n",
    "    for j in range(1, 6):\n",
    "        print(f\"{i*j}\", end=\"\\t\")\n",
    "    print()  # Move to next line after inner loop"
   ]
  }
 ],
 "metadata": {
  "colab": {
   "private_outputs": true,
   "provenance": []
  },
  "kernelspec": {
   "display_name": "Python [conda env:base] *",
   "language": "python",
   "name": "conda-base-py"
  },
  "language_info": {
   "codemirror_mode": {
    "name": "ipython",
    "version": 3
   },
   "file_extension": ".py",
   "mimetype": "text/x-python",
   "name": "python",
   "nbconvert_exporter": "python",
   "pygments_lexer": "ipython3",
   "version": "3.12.7"
  }
 },
 "nbformat": 4,
 "nbformat_minor": 4
}
