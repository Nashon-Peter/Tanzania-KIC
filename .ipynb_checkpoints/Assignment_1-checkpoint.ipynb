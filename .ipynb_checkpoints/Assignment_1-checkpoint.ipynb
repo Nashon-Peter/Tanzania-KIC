{
  "nbformat": 4,
  "nbformat_minor": 0,
  "metadata": {
    "colab": {
      "private_outputs": true,
      "provenance": []
    },
    "kernelspec": {
      "name": "python3",
      "display_name": "Python 3"
    },
    "language_info": {
      "name": "python"
    }
  },
  "cells": [
    {
      "cell_type": "code",
      "source": [
        "import math\n",
        "x= 3\n",
        "y = 52\n",
        "math.factorial(x)"
      ],
      "metadata": {
        "id": "9wA38Jtmp9O5"
      },
      "execution_count": null,
      "outputs": []
    },
    {
      "cell_type": "code",
      "source": [],
      "metadata": {
        "id": "4UQHmmKVOuni"
      },
      "execution_count": null,
      "outputs": []
    },
    {
      "cell_type": "code",
      "source": [],
      "metadata": {
        "id": "XsmKZR8xPVT1"
      },
      "execution_count": null,
      "outputs": []
    },
    {
      "cell_type": "markdown",
      "source": [],
      "metadata": {
        "id": "gUV7TC7BPV2A"
      }
    },
    {
      "cell_type": "code",
      "source": [],
      "metadata": {
        "id": "StWD1P_HPWiQ"
      },
      "execution_count": null,
      "outputs": []
    },
    {
      "cell_type": "code",
      "execution_count": null,
      "metadata": {
        "id": "Ma-6TmnsmSje"
      },
      "outputs": [],
      "source": [
        "# prompt: x = 10\n",
        "\n",
        "x = 10\n"
      ]
    },
    {
      "cell_type": "code",
      "source": [
        "def mycode(): # definition of my function\n",
        "  name = input(\"what is your name?\")\n",
        "  print(\"hello!\", name)\n",
        "\n",
        "\n"
      ],
      "metadata": {
        "id": "8wJ9um7CrNNA"
      },
      "execution_count": null,
      "outputs": []
    },
    {
      "cell_type": "code",
      "source": [
        "def calculator ():\n",
        "  x = int(input(\"enter first number:\"))\n",
        "  y = int(input(\"enter second number:\"))\n",
        "  op = input(\"enter operator:\")\n",
        "  if op == \"+\":\n",
        "    return x+y\n",
        "  elif op == \"-\":\n",
        "    return x-y\n",
        "  elif op == \"*\":\n",
        "    return x*y\n",
        "  elif op == \"/\":\n",
        "    return x/y\n",
        "  else:\n",
        "    return \"invalid operator\"\n",
        "\n",
        "calculator()"
      ],
      "metadata": {
        "id": "kp8vuC_1sOep"
      },
      "execution_count": null,
      "outputs": []
    },
    {
      "cell_type": "code",
      "source": [
        "add(14,15)"
      ],
      "metadata": {
        "id": "d_4xQwEtsgm8"
      },
      "execution_count": null,
      "outputs": []
    },
    {
      "cell_type": "code",
      "source": [
        "mycode()"
      ],
      "metadata": {
        "id": "0Juye5WVreuc"
      },
      "execution_count": null,
      "outputs": []
    },
    {
      "cell_type": "code",
      "source": [
        "def format_string(name, age): # funcation Definition\n",
        "\n",
        "    \"\"\"\n",
        "    Create a formatted string using f-strings.\n",
        "    Args:\n",
        "        name (str): Person's name\n",
        "        age (int): Person's age\n",
        "    Returns:\n",
        "        str: Formatted string\n",
        "    \"\"\"\n",
        "    return f\"My name is {name} and I am {age} years old.\"\n",
        "\n",
        "\n",
        "print(format_string(\"Erum\", 25))  # Output: My name is Alice and I am 30 years old."
      ],
      "metadata": {
        "id": "MW5jKA5QqwKO"
      },
      "execution_count": null,
      "outputs": []
    },
    {
      "cell_type": "code",
      "source": [
        "# method 2 we dont need arguments\n",
        "def format_string(): # funcation Definition\n",
        "  name = input(\"Enter name:\")\n",
        "  age = int(input(\"Enter age:\"))\n",
        "  height = float(input(\"Enter height:\"))\n",
        "  return f\"My name is {name}, I am {age} years old and my height is {height}.\"\n",
        "\n",
        "\n",
        "print(format_string())"
      ],
      "metadata": {
        "id": "mEJ8roNNvrl6"
      },
      "execution_count": null,
      "outputs": []
    },
    {
      "cell_type": "code",
      "source": [
        "# method three\n",
        "from os import name\n",
        "def format_string(name, age): # funcation Definition\n",
        "    # comment\n",
        "    \"\"\"\n",
        "    Create a formatted string using f-strings.\n",
        "    Args:\n",
        "        name (str): Person's name\n",
        "        age (int): Person's age\n",
        "    Returns:\n",
        "        str: Formatted string\n",
        "    \"\"\"\n",
        "    return f\"My name is {name} and I am {age} years old.\"\n",
        "\n",
        "name = input(\"Enter name:\")\n",
        "age = int(input(\"Enter age:\"))\n",
        "print(format_string(name, age))  # Output: My name is Alice and I am 30 years old."
      ],
      "metadata": {
        "id": "eNnWM0iWwTtg"
      },
      "execution_count": null,
      "outputs": []
    },
    {
      "cell_type": "code",
      "source": [
        "def conditional_check(number):\n",
        "    \"\"\"\n",
        "    Check if a number is greater, lesser, or equal to 10.\n",
        "    Args:\n",
        "        number (int): Number to check\n",
        "    Returns:\n",
        "        str: \"Greater\", \"Lesser\", or \"Equal\"\n",
        "    \"\"\"\n",
        "\n",
        "    if number > 10:\n",
        "        return \"Greater\"\n",
        "    elif number < 10:\n",
        "        return \"Lesser\"\n",
        "    else:\n",
        "        return \"Equal\"\n",
        "\n",
        "\n",
        "print(conditional_check(5))  # Output: Greater"
      ],
      "metadata": {
        "id": "VBIkFyGXmake"
      },
      "execution_count": null,
      "outputs": []
    },
    {
      "cell_type": "code",
      "source": [
        "def loop_sum():\n",
        "    \"\"\"\n",
        "    Calculate sum of numbers from 1 to n using a loop.\n",
        "    Args:\n",
        "        n (int): Upper limit\n",
        "    Returns:\n",
        "        int: Sum of numbers\n",
        "    \"\"\"\n",
        "    total = 0\n",
        "    n=int(input(\"enter number:\"))\n",
        "    for i in range(1, n + 1):\n",
        "        total = total+ i\n",
        "\n",
        "    return total\n",
        "\n",
        "\n",
        "print(loop_sum())  # Output: 15 (1+2+3+4+5)"
      ],
      "metadata": {
        "id": "Wv-cqXllmdea"
      },
      "execution_count": null,
      "outputs": []
    },
    {
      "cell_type": "code",
      "source": [
        "list= [6, 5, 9, 10, 15 ]\n"
      ],
      "metadata": {
        "id": "vdUAUzCWy5Nz"
      },
      "execution_count": null,
      "outputs": []
    },
    {
      "cell_type": "code",
      "source": [
        "def age(age):\n",
        "  return f\"your are {age} years ols\"\n",
        "age(25)"
      ],
      "metadata": {
        "id": "b-m-sgee0Ohu"
      },
      "execution_count": null,
      "outputs": []
    },
    {
      "cell_type": "code",
      "source": [
        "def list_operations(numbers):\n",
        "    \"\"\"\n",
        "    Perform operations on a list of numbers.\n",
        "    Args:\n",
        "        numbers (list): List of numbers\n",
        "    Returns:\n",
        "        tuple: (sum, max, min)\n",
        "    \"\"\"\n",
        "    return (sum(numbers), max(numbers), min(numbers)) # these are list operations that why we dont need to add\n",
        "\n",
        "\n",
        "print(list_operations([4, 8, 15, 16, 23, 42]))  # Output: (108, 42, 4)"
      ],
      "metadata": {
        "id": "BNT4pE_VmwrK"
      },
      "execution_count": null,
      "outputs": []
    },
    {
      "cell_type": "code",
      "source": [
        "def dict_operations(students_dict):\n",
        "    \"\"\"\n",
        "    Find students with scores above 80.\n",
        "    Args:\n",
        "        students_dict (dict): Dictionary of student names and scores\n",
        "    Returns:\n",
        "        list: Names of students with scores > 80\n",
        "    \"\"\"\n",
        "    return [name for name, score in students_dict.items() if score > 80]\n",
        "\n",
        "\n",
        "students = {\"John\": 75, \"Emma\": 88, \"Sophia\": 95, \"Liam\": 60}\n",
        "print(dict_operations(students))  # Output: ['Emma', 'Sophia']\n"
      ],
      "metadata": {
        "id": "lEnyO6LVm1Da"
      },
      "execution_count": null,
      "outputs": []
    },
    {
      "cell_type": "code",
      "source": [
        "def set_operations(list1, list2):\n",
        "    \"\"\"\n",
        "    Find common elements between two lists.\n",
        "    Args:\n",
        "        list1 (list): First list\n",
        "        list2 (list): Second list\n",
        "    Returns:\n",
        "        set: Common elements\n",
        "    \"\"\"\n",
        "    return set(list1) & set(list2)\n",
        "\n",
        "print(\"\\n6. set_operations:\")\n",
        "print(set_operations([1, 2, 3, 4], [3, 4, 5, 6]))  # Output: {3, 4}"
      ],
      "metadata": {
        "id": "dDwESswCm3tU"
      },
      "execution_count": null,
      "outputs": []
    },
    {
      "cell_type": "code",
      "source": [
        "def arithmetic_ops(a, b):\n",
        "    \"\"\"\n",
        "    Perform arithmetic operations.\n",
        "    Args:\n",
        "        a (float): First number\n",
        "        b (float): Second number\n",
        "    Returns:\n",
        "        dict: Results of arithmetic operations\n",
        "    \"\"\"\n",
        "    return {\n",
        "        'add': a + b,\n",
        "        'subtract': a - b,\n",
        "        'multiply': a * b,\n",
        "        'divide': a / b if b != 0 else None\n",
        "    }\n",
        "\n",
        "\n",
        "print(arithmetic_ops(10, 2))\n",
        "# Output: {'add': 12, 'subtract': 8, 'multiply': 20, 'divide': 5.0}\n",
        "\n"
      ],
      "metadata": {
        "id": "TiWK1NvMm7Lm"
      },
      "execution_count": null,
      "outputs": []
    },
    {
      "cell_type": "code",
      "source": [],
      "metadata": {
        "id": "U5t0MTRpp58p"
      },
      "execution_count": null,
      "outputs": []
    },
    {
      "cell_type": "code",
      "source": [
        "def logical_ops(x, y):\n",
        "    \"\"\"\n",
        "    Perform logical operations.\n",
        "    Args:\n",
        "        x (bool): First boolean\n",
        "        y (bool): Second boolean\n",
        "    Returns:\n",
        "        dict: Results of logical operations\n",
        "    \"\"\"\n",
        "    return {\n",
        "        'and': x and y,\n",
        "        'or': x or y,\n",
        "        'not_x': not x,\n",
        "        'not_y': not y\n",
        "    }\n",
        "\n",
        "print(\"\\n8. logical_ops:\")\n",
        "print(logical_ops(True, False))\n",
        "# Output: {'and': False, 'or': True, 'not_x': False, 'not_y': True}\n",
        "\n"
      ],
      "metadata": {
        "id": "rM7WuiJ4m-Rl"
      },
      "execution_count": null,
      "outputs": []
    },
    {
      "cell_type": "code",
      "source": [
        "def bitwise_ops(a, b):\n",
        "    \"\"\"\n",
        "    Perform bitwise operations.\n",
        "    Args:\n",
        "        a (int): First integer\n",
        "        b (int): Second integer\n",
        "    Returns:\n",
        "        dict: Results of bitwise operations\n",
        "    \"\"\"\n",
        "    return {\n",
        "        'and': a & b,\n",
        "        'or': a | b,\n",
        "        'xor': a ^ b,\n",
        "        'left_shift_a': a << 1,\n",
        "        'right_shift_b': b >> 1\n",
        "    }\n",
        "    print(\"\\n9. bitwise_ops:\")\n",
        "print(bitwise_ops(5, 3))\n",
        "# Output: {'and': 1, 'or': 7, 'xor': 6, 'left_shift_a': 10, 'right_shift_b': 1}"
      ],
      "metadata": {
        "id": "tJRAGu9NnAZ5"
      },
      "execution_count": null,
      "outputs": []
    }
  ]
}