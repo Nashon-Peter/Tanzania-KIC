{
  "nbformat": 4,
  "nbformat_minor": 0,
  "metadata": {
    "colab": {
      "private_outputs": true,
      "provenance": []
    },
    "kernelspec": {
      "name": "python3",
      "display_name": "Python 3"
    },
    "language_info": {
      "name": "python"
    }
  },
  "cells": [
    {
      "cell_type": "code",
      "source": [
        "# function definition/ like defining variable\n",
        "def name_of_function (arugments):\n",
        "    #code\n",
        "    return\n",
        "\n",
        "# function call\n",
        "name_of_function()"
      ],
      "metadata": {
        "id": "1_LpJtmhttZa"
      },
      "execution_count": null,
      "outputs": []
    },
    {
      "cell_type": "code",
      "source": [],
      "metadata": {
        "id": "jA_wruGRR6qk"
      },
      "execution_count": null,
      "outputs": []
    },
    {
      "cell_type": "markdown",
      "source": [
        "## task1\n",
        "* Create a function add_numbers that takes two arguments and returns their sum."
      ],
      "metadata": {
        "id": "zNrp5DpH8Sbc"
      }
    },
    {
      "cell_type": "code",
      "execution_count": null,
      "metadata": {
        "id": "OJGjVE--paQa"
      },
      "outputs": [],
      "source": [
        "#define function\n",
        "def add_numbers(a, b):\n",
        "    return a + b\n",
        "\n",
        "# Example usage\n",
        "print(\"Sum:\", add_numbers(10, 5))\n"
      ]
    },
    {
      "cell_type": "code",
      "source": [
        "#define function\n",
        "def add_numbers(a= 5, b= 6):\n",
        "    return a + b\n",
        "\n",
        "# Example usage\n",
        "print(\"Sum:\", add_numbers())"
      ],
      "metadata": {
        "id": "nUZGZxB1voAm"
      },
      "execution_count": null,
      "outputs": []
    },
    {
      "cell_type": "code",
      "source": [
        "#define function\n",
        "def add_numbers(a, b):\n",
        "    return a + b\n",
        "\n",
        "# Example usage\n",
        "print(\"Sum:\", add_numbers())"
      ],
      "metadata": {
        "id": "1nRpKxvAvwB1"
      },
      "execution_count": null,
      "outputs": []
    },
    {
      "cell_type": "code",
      "source": [],
      "metadata": {
        "id": "N6WHn8og8lST"
      },
      "execution_count": null,
      "outputs": []
    },
    {
      "cell_type": "markdown",
      "source": [
        "* Write a function calculate_area that calculates the area of a rectangle.\n",
        "* Use default arguments for width and height (e.g., width=10, height=5).\n",
        "* Call the function using positional arguments, keyword arguments, and a mix of both."
      ],
      "metadata": {
        "id": "A69VN-wr8l9G"
      }
    },
    {
      "cell_type": "code",
      "source": [
        "\n",
        "def calculate_area(width=10, height=5):\n",
        "    return width * height\n",
        "\n",
        "# Positional arguments\n",
        "print(\"Area (positional):\", calculate_area(7, 3))\n",
        "\n",
        "# Keyword arguments\n",
        "print(\"Area (keyword):\", calculate_area(height=6, width=4))\n",
        "\n",
        "# Mix of both\n",
        "print(\"Area (mixed):\", calculate_area(8, height=2))"
      ],
      "metadata": {
        "id": "XCSUKVzFpkvy"
      },
      "execution_count": null,
      "outputs": []
    },
    {
      "cell_type": "markdown",
      "source": [
        "# Lambda Functions (5 points)\n",
        "\n",
        "* Create a lambda function to compute the square of a number.\n",
        "* Demonstrate its usage with the map() function over a list of integers."
      ],
      "metadata": {
        "id": "GzTRVQhL8-9D"
      }
    },
    {
      "cell_type": "code",
      "source": [
        "# Adding squaring with function\n",
        "def saquares(numbers):\n",
        "    squares = []\n",
        "    for number in numbers:\n",
        "        squares.append(number ** 2)\n",
        "    return squares\n",
        "\n",
        "numbers = [1, 2, 3, 4, 5]\n",
        "squares = saquares(numbers)\n",
        "print(\"Squares:\", squares)"
      ],
      "metadata": {
        "id": "47fWPeW5xgwz"
      },
      "execution_count": null,
      "outputs": []
    },
    {
      "cell_type": "code",
      "source": [
        "\n",
        "\n",
        "# Lambda for squaring\n",
        "square = lambda x: x ** 2\n",
        "\n",
        "# Using map with lambda\n",
        "numbers = [1, 2, 3, 4, 5]\n",
        "squares = list(map(square, numbers)) # list(map (to map lambda function on values ))\n",
        "print(\"Squares:\", squares)"
      ],
      "metadata": {
        "id": "Zn7h_V2Spod2"
      },
      "execution_count": null,
      "outputs": []
    },
    {
      "cell_type": "code",
      "source": [
        "grades= [\"A\", \"B\", \"C\"]\n",
        "for grade in grades:\n",
        "    print(grade)"
      ],
      "metadata": {
        "id": "NJFNpT2qzIzi"
      },
      "execution_count": null,
      "outputs": []
    },
    {
      "cell_type": "code",
      "source": [
        "\n",
        "def apply_function(func, numbers):\n",
        "    return [func(number) for number in numbers]\n",
        "\n",
        "def double(x):\n",
        "    return x * 2\n",
        "\n",
        "nums = [2, 4, 6]\n",
        "print(\"Doubled:\", apply_function(double, nums))"
      ],
      "metadata": {
        "id": "XGeF3d8tp0qC"
      },
      "execution_count": null,
      "outputs": []
    },
    {
      "cell_type": "code",
      "source": [
        "import random\n",
        "random_nums = [random.randint(1, 100) for _ in range(5)]\n",
        "print(\"Random numbers:\", random_nums)"
      ],
      "metadata": {
        "id": "JpjtNALj0Cb-"
      },
      "execution_count": null,
      "outputs": []
    },
    {
      "cell_type": "code",
      "source": [
        "import random\n",
        "import math\n",
        "\n",
        "random_nums = [random.randint(1, 100) for _ in range(5)]\n",
        "print(\"Random numbers:\", random_nums)\n",
        "\n",
        "sqrt_vals = [math.sqrt(num) for num in random_nums]\n",
        "print(\"Square roots:\", sqrt_vals)"
      ],
      "metadata": {
        "id": "yflP6jDGp70C"
      },
      "execution_count": null,
      "outputs": []
    },
    {
      "cell_type": "code",
      "source": [
        "def add(a, b):\n",
        "    return a + b\n",
        "\n",
        "def subtract(a, b):\n",
        "    return a - b\n",
        "\n",
        "def multiply(a, b):\n",
        "    return a * b\n",
        "\n",
        "def divide(a, b):\n",
        "    if b == 0:\n",
        "        return \"Cannot divide by zero\"\n",
        "    return a / b"
      ],
      "metadata": {
        "id": "QtJv7k9FqBTR"
      },
      "execution_count": null,
      "outputs": []
    },
    {
      "cell_type": "code",
      "source": [
        "print(multiply(7,7))\n"
      ],
      "metadata": {
        "id": "v2V3effKpfc5"
      },
      "execution_count": null,
      "outputs": []
    },
    {
      "cell_type": "code",
      "source": [],
      "metadata": {
        "id": "up1671yktsDK"
      },
      "execution_count": null,
      "outputs": []
    },
    {
      "cell_type": "code",
      "source": [
        "import os\n",
        "\n",
        "# Create directory\n",
        "dir_name = \"assignment_files\"\n",
        "if not os.path.exists(dir_name):\n",
        "    os.mkdir(dir_name)\n",
        "\n",
        "# File path\n",
        "file_path = os.path.join(dir_name, \"sample.txt\")\n",
        "\n",
        "# Write to file\n",
        "with open(file_path, \"w\") as f:\n",
        "    f.write(\"Hello from Python! This is a test file.\")\n",
        "\n",
        "# Read from file\n",
        "with open(file_path, \"r\") as f:\n",
        "    content = f.read()\n",
        "\n",
        "print(\"File contents:\")\n",
        "print(content)"
      ],
      "metadata": {
        "id": "eRwZ3KCus_8Y"
      },
      "execution_count": null,
      "outputs": []
    }
  ]
}